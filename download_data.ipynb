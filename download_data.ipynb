{
 "cells": [
  {
   "cell_type": "code",
   "execution_count": null,
   "metadata": {},
   "outputs": [],
   "source": [
    "## This script downloads the CUB-200-2011 dataset for birds classification.\n",
    "\n",
    "import os\n",
    "import urllib\n",
    "import urllib.request\n",
    "import tarfile\n",
    "\n",
    "data_path = 'dataset'\n",
    "links = ['http://www.vision.caltech.edu/visipedia-data/CUB-200-2011/CUB_200_2011.tgz',\\\n",
    "         'http://www.vision.caltech.edu/visipedia-data/CUB-200-2011/segmentations.tgz']\n",
    "# Create path to store dataset.\n",
    "if not os.path.exists(data_path):\n",
    "    os.mkdir(data_path)\n",
    "# Download and unzip the data.    \n",
    "for link in links:\n",
    "    try:\n",
    "        file_name = link.split('/')[-1]\n",
    "        urllib.request.urlretrieve(link, data_path + '/' + file_name)\n",
    "        tar = tarfile.open(data_path + '/' + file_name)\n",
    "        tar.extractall(path = data_path + '/')\n",
    "        tar.close()\n",
    "    except Exception as e:\n",
    "        print('Exception during downloading or extracting: ' + str(e))\n"
   ]
  },
  {
   "cell_type": "code",
   "execution_count": null,
   "metadata": {},
   "outputs": [],
   "source": []
  }
 ],
 "metadata": {
  "kernelspec": {
   "display_name": "conda_mxnet_p36",
   "language": "python",
   "name": "conda_mxnet_p36"
  },
  "language_info": {
   "codemirror_mode": {
    "name": "ipython",
    "version": 3
   },
   "file_extension": ".py",
   "mimetype": "text/x-python",
   "name": "python",
   "nbconvert_exporter": "python",
   "pygments_lexer": "ipython3",
   "version": "3.6.5"
  }
 },
 "nbformat": 4,
 "nbformat_minor": 2
}
